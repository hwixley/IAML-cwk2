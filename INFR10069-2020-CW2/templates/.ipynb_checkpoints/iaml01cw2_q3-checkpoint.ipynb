{
 "cells": [
  {
   "cell_type": "code",
   "execution_count": null,
   "metadata": {},
   "outputs": [],
   "source": [
    "\n",
    "##########################################################\n",
    "#  Python script template for Question 3 (IAML Level 10)\n",
    "#  Note that:\n",
    "#  - You should not change the filename of this file, 'iaml01cw2_q3.py', which is the file name you should use when you submit your code for this question.\n",
    "#  - You should define the functions shown below in your code.\n",
    "#  - You can define function arguments (parameters) and returns (attributes) if necessary.\n",
    "#  - In case you define helper functions, do not define them here, but put them in a separate Python module file, \"iaml01cw2_my_helpers.py\", and import it in this script.\n",
    "#  - For those questions requiring you to show results in tables, your code does not need to present them in tables - just showing them with print() is fine.\n",
    "#  - You do not need to include this header in your submission\n",
    "##########################################################\n",
    "\n",
    "#--- Code for loading the data set and pre-processing --->\n",
    "import numpy as np\n",
    "import scipy\n",
    "import matplotlib.pyplot as plt\n",
    "import seaborn as sns\n",
    "\n",
    "#<----\n",
    "\n",
    "# Q3.1\n",
    "def iaml01cw2_q3_1():\n",
    "#\n",
    "# iaml01cw2_q3_1()   # comment this out when you run the function\n",
    "\n",
    "# Q3.2\n",
    "def iaml01cw2_q3_2():\n",
    "#\n",
    "# iaml01cw2_q3_2()   # comment this out when you run the function\n",
    "\n",
    "# Q3.3\n",
    "def iaml01cw2_q3_3():\n",
    "#\n",
    "# iaml01cw2_q3_3()   # comment this out when you run the function\n",
    "\n",
    "# Q3.4\n",
    "def iaml01cw2_q3_4():\n",
    "#\n",
    "# iaml01cw2_q3_4()   # comment this out when you run the function\n",
    "\n",
    "# Q3.5\n",
    "def iaml01cw2_q3_5():\n",
    "#\n",
    "# iaml01cw2_q3_5()   # comment this out when you run the function\n",
    "\n"
   ]
  }
 ],
 "metadata": {
  "kernelspec": {
   "display_name": "Python 3",
   "language": "python",
   "name": "python3"
  },
  "language_info": {
   "codemirror_mode": {
    "name": "ipython",
    "version": 3
   },
   "file_extension": ".py",
   "mimetype": "text/x-python",
   "name": "python",
   "nbconvert_exporter": "python",
   "pygments_lexer": "ipython3",
   "version": "3.7.7"
  }
 },
 "nbformat": 4,
 "nbformat_minor": 4
}
